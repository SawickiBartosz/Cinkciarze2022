{
 "cells": [
  {
   "cell_type": "markdown",
   "id": "6d257602",
   "metadata": {},
   "source": [
    "## Zmiany danych źrodłowych o sprzedaży"
   ]
  },
  {
   "cell_type": "code",
   "execution_count": 1,
   "id": "853f96cd",
   "metadata": {},
   "outputs": [],
   "source": [
    "import numpy as np\n",
    "import pandas as pd\n",
    "import requests"
   ]
  },
  {
   "cell_type": "code",
   "execution_count": 2,
   "id": "03325f51",
   "metadata": {},
   "outputs": [],
   "source": [
    "sales_df = pd.read_csv('sales_data_sample.csv', encoding='cp1250')"
   ]
  },
  {
   "cell_type": "markdown",
   "id": "01977270",
   "metadata": {},
   "source": [
    "### Uwspółcześnienie dat\n",
    "Zmiana na daty współczesne (z lat 2003-2005 na 2020-2022)."
   ]
  },
  {
   "cell_type": "code",
   "execution_count": 3,
   "id": "52ad3a15",
   "metadata": {},
   "outputs": [],
   "source": [
    "sales_df['ORDERDATE'] = sales_df['ORDERDATE'].astype(\"datetime64\")"
   ]
  },
  {
   "cell_type": "code",
   "execution_count": 4,
   "id": "3fb1684b",
   "metadata": {},
   "outputs": [
    {
     "data": {
      "text/plain": [
       "(Timestamp('2003-01-06 00:00:00'), Timestamp('2005-05-31 00:00:00'))"
      ]
     },
     "execution_count": 4,
     "metadata": {},
     "output_type": "execute_result"
    }
   ],
   "source": [
    "# zakres dat w oryginalnych danych\n",
    "sales_df['ORDERDATE'].min(), sales_df['ORDERDATE'].max()"
   ]
  },
  {
   "cell_type": "code",
   "execution_count": 5,
   "id": "c76d606e",
   "metadata": {},
   "outputs": [
    {
     "data": {
      "text/plain": [
       "4    598\n",
       "2    562\n",
       "3    538\n",
       "1    515\n",
       "0    366\n",
       "5    123\n",
       "6    121\n",
       "Name: ORDERDATE, dtype: int64"
      ]
     },
     "execution_count": 5,
     "metadata": {},
     "output_type": "execute_result"
    }
   ],
   "source": [
    "# dni tygodnia w oryginalnych danych\n",
    "# 0 - poniedziałek, 6 - niedziela\n",
    "# są zarejestrowane sprzedaze we wszystkie, więc mozna po prostu przesunac date \n",
    "# bez zwracania uwagi na dni tygodnia\n",
    "sales_df[\"ORDERDATE\"].dt.dayofweek.value_counts()"
   ]
  },
  {
   "cell_type": "code",
   "execution_count": 6,
   "id": "79b6337e",
   "metadata": {},
   "outputs": [],
   "source": [
    "sales_df[\"ORDERDATE\"] = sales_df[\"ORDERDATE\"] + pd.offsets.DateOffset(years=17)"
   ]
  },
  {
   "cell_type": "code",
   "execution_count": 7,
   "id": "54bb55f0",
   "metadata": {},
   "outputs": [
    {
     "data": {
      "text/plain": [
       "(Timestamp('2020-01-06 00:00:00'), Timestamp('2022-05-31 00:00:00'))"
      ]
     },
     "execution_count": 7,
     "metadata": {},
     "output_type": "execute_result"
    }
   ],
   "source": [
    "# zakres dat w zmienionych danych\n",
    "sales_df['ORDERDATE'].min(), sales_df['ORDERDATE'].max()"
   ]
  },
  {
   "cell_type": "code",
   "execution_count": 8,
   "id": "1de202e5",
   "metadata": {},
   "outputs": [
    {
     "data": {
      "text/plain": [
       "2    567\n",
       "4    567\n",
       "3    535\n",
       "1    429\n",
       "5    321\n",
       "0    305\n",
       "6     99\n",
       "Name: ORDERDATE, dtype: int64"
      ]
     },
     "execution_count": 8,
     "metadata": {},
     "output_type": "execute_result"
    }
   ],
   "source": [
    "# dni tygodnia w zmienionych danych\n",
    "# dalej najmniej pozostaje w niedziele - OK\n",
    "sales_df[\"ORDERDATE\"].dt.dayofweek.value_counts()"
   ]
  },
  {
   "cell_type": "code",
   "execution_count": 9,
   "id": "31b51d76",
   "metadata": {},
   "outputs": [],
   "source": [
    "sales_df.YEAR_ID = sales_df.ORDERDATE.dt.year\n",
    "sales_df.QTR_ID = sales_df.ORDERDATE.dt.quarter\n",
    "sales_df.MONTH_ID = sales_df.ORDERDATE.dt.month"
   ]
  },
  {
   "cell_type": "markdown",
   "id": "4d51240d",
   "metadata": {},
   "source": [
    "### Zmiany walutowe\n",
    "\n",
    "#### Zmiana SuggestedRetailPrice na cenę wyrażoną w złotówkach\n",
    "(oryginalnie prawdopodobnie cena jest w dolarach amerykańskich)"
   ]
  },
  {
   "cell_type": "code",
   "execution_count": 10,
   "id": "a07071e2",
   "metadata": {},
   "outputs": [],
   "source": [
    "# żeby zachować sugerowaną cenę w intach \n",
    "sales_df.MSRP =  sales_df.MSRP * 4 "
   ]
  },
  {
   "cell_type": "markdown",
   "id": "6e8ade49",
   "metadata": {},
   "source": [
    "#### Naprawa przycietej ceny "
   ]
  },
  {
   "cell_type": "code",
   "execution_count": 11,
   "id": "3858404e",
   "metadata": {},
   "outputs": [
    {
     "data": {
      "text/plain": [
       "<AxesSubplot:>"
      ]
     },
     "execution_count": 11,
     "metadata": {},
     "output_type": "execute_result"
    },
    {
     "data": {
      "image/png": "[encoded data removed]",
      "text/plain": [
       "<Figure size 432x288 with 1 Axes>"
      ]
     },
     "metadata": {
      "needs_background": "light"
     },
     "output_type": "display_data"
    }
   ],
   "source": [
    "# cena sprzedazy jest przycieta do wartosci 100\n",
    "sales_df.PRICEEACH.hist()"
   ]
  },
  {
   "cell_type": "code",
   "execution_count": 12,
   "id": "27f078a4",
   "metadata": {},
   "outputs": [
    {
     "data": {
      "text/plain": [
       "100.0    1304\n",
       "Name: PRICEEACH, dtype: int64"
      ]
     },
     "execution_count": 12,
     "metadata": {},
     "output_type": "execute_result"
    }
   ],
   "source": [
    "# przez to nie zgadza sie wyliczenie lacznej kwoty sprzedazy dla 1304 rekordow \n",
    "mask = np.abs(sales_df[\"PRICEEACH\"] * sales_df[\"QUANTITYORDERED\"] - sales_df[\"SALES\"]) > 0.01\n",
    "tmp = sales_df[mask]\n",
    "tmp.PRICEEACH.value_counts()"
   ]
  },
  {
   "cell_type": "code",
   "execution_count": 13,
   "id": "d0e27726",
   "metadata": {},
   "outputs": [],
   "source": [
    "# naprawa\n",
    "sales_df.loc[mask, \"PRICEEACH\"] = sales_df.loc[mask, \"SALES\"] / sales_df.loc[mask, \"QUANTITYORDERED\"]"
   ]
  },
  {
   "cell_type": "code",
   "execution_count": 14,
   "id": "fd78f239",
   "metadata": {},
   "outputs": [
    {
     "data": {
      "text/plain": [
       "1.0"
      ]
     },
     "execution_count": 14,
     "metadata": {},
     "output_type": "execute_result"
    }
   ],
   "source": [
    "# sprawdzenie\n",
    "np.mean(np.abs(sales_df[\"PRICEEACH\"] * sales_df[\"QUANTITYORDERED\"] - sales_df[\"SALES\"]) < 0.0001)"
   ]
  },
  {
   "cell_type": "markdown",
   "id": "f04e900e",
   "metadata": {},
   "source": [
    "#### Zmiana walut na waluty poszczególnych krajów"
   ]
  },
  {
   "cell_type": "code",
   "execution_count": 15,
   "id": "b3faa905",
   "metadata": {},
   "outputs": [],
   "source": [
    "sales_df[\"PRICEEACH\"] = sales_df[\"PRICEEACH\"] * 4"
   ]
  },
  {
   "cell_type": "code",
   "execution_count": 16,
   "id": "b49d77bd",
   "metadata": {},
   "outputs": [],
   "source": [
    "country_currency_dict = {\n",
    "    'Australia': \"AUD\",\n",
    "    'Austria': \"EUR\",\n",
    "    'Belgium': \"EUR\",\n",
    "    'Canada': \"CAD\", \n",
    "    'Denmark': \"EUR\", \n",
    "    'Finland': \"EUR\",\n",
    "    'France': \"EUR\", \n",
    "    'Germany': \"EUR\", \n",
    "    'Ireland': \"EUR\", \n",
    "    'Italy': \"EUR\", \n",
    "    'Japan': \"JPY\", \n",
    "    'Norway': \"NOK\",\n",
    "    'Philippines': \"PHP\",\n",
    "    'Singapore': \"SGD\", \n",
    "    'Spain': \"EUR\", \n",
    "    'Sweden': \"SEK\", \n",
    "    'Switzerland': \"CHF\", \n",
    "    'UK': \"GBP\",\n",
    "    'USA': \"USD\"\n",
    "}"
   ]
  },
  {
   "cell_type": "code",
   "execution_count": 17,
   "id": "4547cb55",
   "metadata": {},
   "outputs": [],
   "source": [
    "sales_df['CURRENCY'] = sales_df['COUNTRY'].map(country_currency_dict)"
   ]
  },
  {
   "cell_type": "code",
   "execution_count": 18,
   "id": "89ace681",
   "metadata": {},
   "outputs": [],
   "source": [
    "API_URL = \"http://api.nbp.pl/api/exchangerates/rates/{table}/{code}/{date}/?format=json\"\n",
    "currency_rates = {}\n",
    "unique_currencies = sales_df['CURRENCY'].unique()\n",
    "for currency in unique_currencies:\n",
    "    r = requests.get(API_URL.format(table='a', code=currency, date='2022-05-20'))\n",
    "    currency_rates[currency] = r.json()[\"rates\"][0][\"mid\"]"
   ]
  },
  {
   "cell_type": "code",
   "execution_count": 19,
   "id": "5b91ae40",
   "metadata": {},
   "outputs": [],
   "source": [
    "def change_price_to_local_currency(row):\n",
    "    return np.round(row.PRICEEACH/currency_rates[row.CURRENCY], 2)"
   ]
  },
  {
   "cell_type": "code",
   "execution_count": 20,
   "id": "2ff4bc37",
   "metadata": {},
   "outputs": [],
   "source": [
    "sales_df[\"PRICEEACH\"] = sales_df.apply(change_price_to_local_currency, axis=1)"
   ]
  },
  {
   "cell_type": "code",
   "execution_count": 21,
   "id": "c1491c94",
   "metadata": {},
   "outputs": [],
   "source": [
    "sales_df[\"SALES\"] = sales_df[\"PRICEEACH\"] * sales_df[\"QUANTITYORDERED\"]"
   ]
  },
  {
   "cell_type": "code",
   "execution_count": 22,
   "id": "5a43f1e2",
   "metadata": {},
   "outputs": [
    {
     "data": {
      "text/html": [
       "<div>\n",
       "<style scoped>\n",
       "    .dataframe tbody tr th:only-of-type {\n",
       "        vertical-align: middle;\n",
       "    }\n",
       "\n",
       "    .dataframe tbody tr th {\n",
       "        vertical-align: top;\n",
       "    }\n",
       "\n",
       "    .dataframe thead th {\n",
       "        text-align: right;\n",
       "    }\n",
       "</style>\n",
       "<table border=\"1\" class=\"dataframe\">\n",
       "  <thead>\n",
       "    <tr style=\"text-align: right;\">\n",
       "      <th></th>\n",
       "      <th>ORDERNUMBER</th>\n",
       "      <th>QUANTITYORDERED</th>\n",
       "      <th>PRICEEACH</th>\n",
       "      <th>ORDERLINENUMBER</th>\n",
       "      <th>SALES</th>\n",
       "      <th>ORDERDATE</th>\n",
       "      <th>STATUS</th>\n",
       "      <th>QTR_ID</th>\n",
       "      <th>MONTH_ID</th>\n",
       "      <th>YEAR_ID</th>\n",
       "      <th>...</th>\n",
       "      <th>ADDRESSLINE2</th>\n",
       "      <th>CITY</th>\n",
       "      <th>STATE</th>\n",
       "      <th>POSTALCODE</th>\n",
       "      <th>COUNTRY</th>\n",
       "      <th>TERRITORY</th>\n",
       "      <th>CONTACTLASTNAME</th>\n",
       "      <th>CONTACTFIRSTNAME</th>\n",
       "      <th>DEALSIZE</th>\n",
       "      <th>CURRENCY</th>\n",
       "    </tr>\n",
       "  </thead>\n",
       "  <tbody>\n",
       "    <tr>\n",
       "      <th>0</th>\n",
       "      <td>10107</td>\n",
       "      <td>30</td>\n",
       "      <td>87.33</td>\n",
       "      <td>2</td>\n",
       "      <td>2619.90</td>\n",
       "      <td>2020-02-24</td>\n",
       "      <td>Shipped</td>\n",
       "      <td>1</td>\n",
       "      <td>2</td>\n",
       "      <td>2020</td>\n",
       "      <td>...</td>\n",
       "      <td>NaN</td>\n",
       "      <td>NYC</td>\n",
       "      <td>NY</td>\n",
       "      <td>10022</td>\n",
       "      <td>USA</td>\n",
       "      <td>NaN</td>\n",
       "      <td>Yu</td>\n",
       "      <td>Kwai</td>\n",
       "      <td>Small</td>\n",
       "      <td>USD</td>\n",
       "    </tr>\n",
       "    <tr>\n",
       "      <th>1</th>\n",
       "      <td>10121</td>\n",
       "      <td>34</td>\n",
       "      <td>70.18</td>\n",
       "      <td>5</td>\n",
       "      <td>2386.12</td>\n",
       "      <td>2020-05-07</td>\n",
       "      <td>Shipped</td>\n",
       "      <td>2</td>\n",
       "      <td>5</td>\n",
       "      <td>2020</td>\n",
       "      <td>...</td>\n",
       "      <td>NaN</td>\n",
       "      <td>Reims</td>\n",
       "      <td>NaN</td>\n",
       "      <td>51100</td>\n",
       "      <td>France</td>\n",
       "      <td>EMEA</td>\n",
       "      <td>Henriot</td>\n",
       "      <td>Paul</td>\n",
       "      <td>Small</td>\n",
       "      <td>EUR</td>\n",
       "    </tr>\n",
       "    <tr>\n",
       "      <th>2</th>\n",
       "      <td>10134</td>\n",
       "      <td>41</td>\n",
       "      <td>81.73</td>\n",
       "      <td>2</td>\n",
       "      <td>3350.93</td>\n",
       "      <td>2020-07-01</td>\n",
       "      <td>Shipped</td>\n",
       "      <td>3</td>\n",
       "      <td>7</td>\n",
       "      <td>2020</td>\n",
       "      <td>...</td>\n",
       "      <td>NaN</td>\n",
       "      <td>Paris</td>\n",
       "      <td>NaN</td>\n",
       "      <td>75508</td>\n",
       "      <td>France</td>\n",
       "      <td>EMEA</td>\n",
       "      <td>Da Cunha</td>\n",
       "      <td>Daniel</td>\n",
       "      <td>Medium</td>\n",
       "      <td>EUR</td>\n",
       "    </tr>\n",
       "    <tr>\n",
       "      <th>3</th>\n",
       "      <td>10145</td>\n",
       "      <td>45</td>\n",
       "      <td>75.98</td>\n",
       "      <td>6</td>\n",
       "      <td>3419.10</td>\n",
       "      <td>2020-08-25</td>\n",
       "      <td>Shipped</td>\n",
       "      <td>3</td>\n",
       "      <td>8</td>\n",
       "      <td>2020</td>\n",
       "      <td>...</td>\n",
       "      <td>NaN</td>\n",
       "      <td>Pasadena</td>\n",
       "      <td>CA</td>\n",
       "      <td>90003</td>\n",
       "      <td>USA</td>\n",
       "      <td>NaN</td>\n",
       "      <td>Young</td>\n",
       "      <td>Julie</td>\n",
       "      <td>Medium</td>\n",
       "      <td>USD</td>\n",
       "    </tr>\n",
       "    <tr>\n",
       "      <th>4</th>\n",
       "      <td>10159</td>\n",
       "      <td>49</td>\n",
       "      <td>96.94</td>\n",
       "      <td>14</td>\n",
       "      <td>4750.06</td>\n",
       "      <td>2020-10-10</td>\n",
       "      <td>Shipped</td>\n",
       "      <td>4</td>\n",
       "      <td>10</td>\n",
       "      <td>2020</td>\n",
       "      <td>...</td>\n",
       "      <td>NaN</td>\n",
       "      <td>San Francisco</td>\n",
       "      <td>CA</td>\n",
       "      <td>NaN</td>\n",
       "      <td>USA</td>\n",
       "      <td>NaN</td>\n",
       "      <td>Brown</td>\n",
       "      <td>Julie</td>\n",
       "      <td>Medium</td>\n",
       "      <td>USD</td>\n",
       "    </tr>\n",
       "    <tr>\n",
       "      <th>...</th>\n",
       "      <td>...</td>\n",
       "      <td>...</td>\n",
       "      <td>...</td>\n",
       "      <td>...</td>\n",
       "      <td>...</td>\n",
       "      <td>...</td>\n",
       "      <td>...</td>\n",
       "      <td>...</td>\n",
       "      <td>...</td>\n",
       "      <td>...</td>\n",
       "      <td>...</td>\n",
       "      <td>...</td>\n",
       "      <td>...</td>\n",
       "      <td>...</td>\n",
       "      <td>...</td>\n",
       "      <td>...</td>\n",
       "      <td>...</td>\n",
       "      <td>...</td>\n",
       "      <td>...</td>\n",
       "      <td>...</td>\n",
       "      <td>...</td>\n",
       "    </tr>\n",
       "    <tr>\n",
       "      <th>2818</th>\n",
       "      <td>10350</td>\n",
       "      <td>20</td>\n",
       "      <td>96.81</td>\n",
       "      <td>15</td>\n",
       "      <td>1936.20</td>\n",
       "      <td>2021-12-02</td>\n",
       "      <td>Shipped</td>\n",
       "      <td>4</td>\n",
       "      <td>12</td>\n",
       "      <td>2021</td>\n",
       "      <td>...</td>\n",
       "      <td>NaN</td>\n",
       "      <td>Madrid</td>\n",
       "      <td>NaN</td>\n",
       "      <td>28034</td>\n",
       "      <td>Spain</td>\n",
       "      <td>EMEA</td>\n",
       "      <td>Freyre</td>\n",
       "      <td>Diego</td>\n",
       "      <td>Small</td>\n",
       "      <td>EUR</td>\n",
       "    </tr>\n",
       "    <tr>\n",
       "      <th>2819</th>\n",
       "      <td>10373</td>\n",
       "      <td>29</td>\n",
       "      <td>118.35</td>\n",
       "      <td>1</td>\n",
       "      <td>3432.15</td>\n",
       "      <td>2022-01-31</td>\n",
       "      <td>Shipped</td>\n",
       "      <td>1</td>\n",
       "      <td>1</td>\n",
       "      <td>2022</td>\n",
       "      <td>...</td>\n",
       "      <td>NaN</td>\n",
       "      <td>Oulu</td>\n",
       "      <td>NaN</td>\n",
       "      <td>90110</td>\n",
       "      <td>Finland</td>\n",
       "      <td>EMEA</td>\n",
       "      <td>Koskitalo</td>\n",
       "      <td>Pirkko</td>\n",
       "      <td>Medium</td>\n",
       "      <td>EUR</td>\n",
       "    </tr>\n",
       "    <tr>\n",
       "      <th>2820</th>\n",
       "      <td>10386</td>\n",
       "      <td>43</td>\n",
       "      <td>108.69</td>\n",
       "      <td>4</td>\n",
       "      <td>4673.67</td>\n",
       "      <td>2022-03-01</td>\n",
       "      <td>Resolved</td>\n",
       "      <td>1</td>\n",
       "      <td>3</td>\n",
       "      <td>2022</td>\n",
       "      <td>...</td>\n",
       "      <td>NaN</td>\n",
       "      <td>Madrid</td>\n",
       "      <td>NaN</td>\n",
       "      <td>28034</td>\n",
       "      <td>Spain</td>\n",
       "      <td>EMEA</td>\n",
       "      <td>Freyre</td>\n",
       "      <td>Diego</td>\n",
       "      <td>Medium</td>\n",
       "      <td>EUR</td>\n",
       "    </tr>\n",
       "    <tr>\n",
       "      <th>2821</th>\n",
       "      <td>10397</td>\n",
       "      <td>34</td>\n",
       "      <td>53.69</td>\n",
       "      <td>1</td>\n",
       "      <td>1825.46</td>\n",
       "      <td>2022-03-28</td>\n",
       "      <td>Shipped</td>\n",
       "      <td>1</td>\n",
       "      <td>3</td>\n",
       "      <td>2022</td>\n",
       "      <td>...</td>\n",
       "      <td>NaN</td>\n",
       "      <td>Toulouse</td>\n",
       "      <td>NaN</td>\n",
       "      <td>31000</td>\n",
       "      <td>France</td>\n",
       "      <td>EMEA</td>\n",
       "      <td>Roulet</td>\n",
       "      <td>Annette</td>\n",
       "      <td>Small</td>\n",
       "      <td>EUR</td>\n",
       "    </tr>\n",
       "    <tr>\n",
       "      <th>2822</th>\n",
       "      <td>10414</td>\n",
       "      <td>47</td>\n",
       "      <td>59.79</td>\n",
       "      <td>9</td>\n",
       "      <td>2810.13</td>\n",
       "      <td>2022-05-06</td>\n",
       "      <td>On Hold</td>\n",
       "      <td>2</td>\n",
       "      <td>5</td>\n",
       "      <td>2022</td>\n",
       "      <td>...</td>\n",
       "      <td>NaN</td>\n",
       "      <td>Boston</td>\n",
       "      <td>MA</td>\n",
       "      <td>51003</td>\n",
       "      <td>USA</td>\n",
       "      <td>NaN</td>\n",
       "      <td>Yoshido</td>\n",
       "      <td>Juri</td>\n",
       "      <td>Medium</td>\n",
       "      <td>USD</td>\n",
       "    </tr>\n",
       "  </tbody>\n",
       "</table>\n",
       "<p>2823 rows × 26 columns</p>\n",
       "</div>"
      ],
      "text/plain": [
       "      ORDERNUMBER  QUANTITYORDERED  PRICEEACH  ORDERLINENUMBER    SALES  \\\n",
       "0           10107               30      87.33                2  2619.90   \n",
       "1           10121               34      70.18                5  2386.12   \n",
       "2           10134               41      81.73                2  3350.93   \n",
       "3           10145               45      75.98                6  3419.10   \n",
       "4           10159               49      96.94               14  4750.06   \n",
       "...           ...              ...        ...              ...      ...   \n",
       "2818        10350               20      96.81               15  1936.20   \n",
       "2819        10373               29     118.35                1  3432.15   \n",
       "2820        10386               43     108.69                4  4673.67   \n",
       "2821        10397               34      53.69                1  1825.46   \n",
       "2822        10414               47      59.79                9  2810.13   \n",
       "\n",
       "      ORDERDATE    STATUS  QTR_ID  MONTH_ID  YEAR_ID  ... ADDRESSLINE2  \\\n",
       "0    2020-02-24   Shipped       1         2     2020  ...          NaN   \n",
       "1    2020-05-07   Shipped       2         5     2020  ...          NaN   \n",
       "2    2020-07-01   Shipped       3         7     2020  ...          NaN   \n",
       "3    2020-08-25   Shipped       3         8     2020  ...          NaN   \n",
       "4    2020-10-10   Shipped       4        10     2020  ...          NaN   \n",
       "...         ...       ...     ...       ...      ...  ...          ...   \n",
       "2818 2021-12-02   Shipped       4        12     2021  ...          NaN   \n",
       "2819 2022-01-31   Shipped       1         1     2022  ...          NaN   \n",
       "2820 2022-03-01  Resolved       1         3     2022  ...          NaN   \n",
       "2821 2022-03-28   Shipped       1         3     2022  ...          NaN   \n",
       "2822 2022-05-06   On Hold       2         5     2022  ...          NaN   \n",
       "\n",
       "               CITY STATE POSTALCODE  COUNTRY TERRITORY CONTACTLASTNAME  \\\n",
       "0               NYC    NY      10022      USA       NaN              Yu   \n",
       "1             Reims   NaN      51100   France      EMEA         Henriot   \n",
       "2             Paris   NaN      75508   France      EMEA        Da Cunha   \n",
       "3          Pasadena    CA      90003      USA       NaN           Young   \n",
       "4     San Francisco    CA        NaN      USA       NaN           Brown   \n",
       "...             ...   ...        ...      ...       ...             ...   \n",
       "2818         Madrid   NaN      28034    Spain      EMEA          Freyre   \n",
       "2819           Oulu   NaN      90110  Finland      EMEA       Koskitalo   \n",
       "2820         Madrid   NaN      28034    Spain      EMEA          Freyre   \n",
       "2821       Toulouse   NaN      31000   France      EMEA          Roulet   \n",
       "2822         Boston    MA      51003      USA       NaN         Yoshido   \n",
       "\n",
       "     CONTACTFIRSTNAME DEALSIZE CURRENCY  \n",
       "0                Kwai    Small      USD  \n",
       "1                Paul    Small      EUR  \n",
       "2              Daniel   Medium      EUR  \n",
       "3               Julie   Medium      USD  \n",
       "4               Julie   Medium      USD  \n",
       "...               ...      ...      ...  \n",
       "2818            Diego    Small      EUR  \n",
       "2819           Pirkko   Medium      EUR  \n",
       "2820            Diego   Medium      EUR  \n",
       "2821          Annette    Small      EUR  \n",
       "2822             Juri   Medium      USD  \n",
       "\n",
       "[2823 rows x 26 columns]"
      ]
     },
     "execution_count": 22,
     "metadata": {},
     "output_type": "execute_result"
    }
   ],
   "source": [
    "sales_df"
   ]
  },
  {
   "cell_type": "markdown",
   "id": "3cdc493e",
   "metadata": {},
   "source": [
    "## Zapisanie i podział na dwie ramki"
   ]
  },
  {
   "cell_type": "code",
   "execution_count": 41,
   "id": "39debfea",
   "metadata": {},
   "outputs": [],
   "source": [
    "sales_df.to_csv(\"sales_data.csv\", index=False, sep=';')"
   ]
  },
  {
   "cell_type": "code",
   "execution_count": 36,
   "id": "75f120e1",
   "metadata": {},
   "outputs": [],
   "source": [
    "sales_historic = sales_df[sales_df[\"ORDERDATE\"] < '2022-04-01']\n",
    "sales_new = sales_df[sales_df[\"ORDERDATE\"] >= '2022-04-01']"
   ]
  },
  {
   "cell_type": "code",
   "execution_count": 39,
   "id": "b084a17b",
   "metadata": {},
   "outputs": [],
   "source": [
    "sales_historic.to_csv(\"sales_historic.csv\", index=False, sep=';')"
   ]
  },
  {
   "cell_type": "code",
   "execution_count": 40,
   "id": "5d791bed",
   "metadata": {},
   "outputs": [],
   "source": [
    "sales_new.to_csv(\"sales_new.csv\", index=False, sep=';')"
   ]
  },
  {
   "cell_type": "code",
   "execution_count": null,
   "id": "19991385",
   "metadata": {},
   "outputs": [],
   "source": []
  }
 ],
 "metadata": {
  "interpreter": {
   "hash": "31f2aee4e71d21fbe5cf8b01ff0e069b9275f58929596ceb00d14d90e3e16cd6"
  },
  "kernelspec": {
   "display_name": "Python 3.8.10 64-bit",
   "language": "python",
   "name": "python3"
  },
  "language_info": {
   "codemirror_mode": {
    "name": "ipython",
    "version": 3
   },
   "file_extension": ".py",
   "mimetype": "text/x-python",
   "name": "python",
   "nbconvert_exporter": "python",
   "pygments_lexer": "ipython3",
   "version": "3.8.10"
  }
 },
 "nbformat": 4,
 "nbformat_minor": 5
}
